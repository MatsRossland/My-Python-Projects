{
 "cells": [
  {
   "cell_type": "markdown",
   "id": "6115eb5f",
   "metadata": {},
   "source": [
    "# DataQuest Guided Project: Prison Break\n",
    "\n",
    "## Prison Escapes by Helicopter\n",
    "\n",
    "1. We start the project by importing some helper functions stored in the file \"helper.py\"."
   ]
  },
  {
   "cell_type": "code",
   "execution_count": 1,
   "id": "6a37c5bc",
   "metadata": {},
   "outputs": [],
   "source": [
    "from helper import *"
   ]
  },
  {
   "cell_type": "markdown",
   "id": "9fc2d335",
   "metadata": {},
   "source": [
    "### Gathering the Data\n",
    "\n",
    "2. Next we retrieve the data from a Wikipedia article with a list/table over prison escapes by helicopter."
   ]
  },
  {
   "cell_type": "code",
   "execution_count": 2,
   "id": "268c6eb1",
   "metadata": {},
   "outputs": [],
   "source": [
    "url = \"https://en.wikipedia.org/wiki/List_of_helicopter_prison_escapes\"\n",
    "data = data_from_url(url)"
   ]
  },
  {
   "cell_type": "markdown",
   "id": "02671455",
   "metadata": {},
   "source": [
    "### Printing the First Three Rows:\n",
    "\n",
    "3. We print out the three first rows using a for loop with the slicing method - [:3] starts from line 1 (index 0) and stops the loop after printing out the 3 row. "
   ]
  },
  {
   "cell_type": "code",
   "execution_count": 3,
   "id": "0c9e33f5",
   "metadata": {},
   "outputs": [
    {
     "name": "stdout",
     "output_type": "stream",
     "text": [
      "['August 19, 1971', 'Santa Martha Acatitla', 'Mexico', 'Yes', 'Joel David Kaplan Carlos Antonio Contreras Castro', \"Joel David Kaplan was a New York businessman who had been arrested for murder in 1962 in Mexico City and was incarcerated at the Santa Martha Acatitla prison in the Iztapalapa borough of Mexico City. Joel's sister, Judy Kaplan, arranged the means to help Kaplan escape, and on August 19, 1971, a helicopter landed in the prison yard. The guards mistakenly thought this was an official visit. In two minutes, Kaplan and his cellmate Carlos Antonio Contreras, a Venezuelan counterfeiter, were able to board the craft and were piloted away, before any shots were fired.[9] Both men were flown to Texas and then different planes flew Kaplan to California and Contreras to Guatemala.[3] The Mexican government never initiated extradition proceedings against Kaplan.[9] The escape is told in a book, The 10-Second Jailbreak: The Helicopter Escape of Joel David Kaplan.[4] It also inspired the 1975 action movie Breakout, which starred Charles Bronson and Robert Duvall.[9]\"]\n",
      "['October 31, 1973', 'Mountjoy Jail', 'Ireland', 'Yes', \"JB O'Hagan Seamus TwomeyKevin Mallon\", 'On October 31, 1973, an IRA member hijacked a helicopter and forced the pilot to land in the exercise yard of Dublin\\'s Mountjoy Jail\\'s D Wing at 3:40\\xa0p.m., October 31, 1973. Three members of the IRA were able to escape: JB O\\'Hagan, Seamus Twomey and Kevin Mallon. Another prisoner who also was in the prison was quoted as saying, \"One shamefaced screw apologised to the governor and said he thought it was the new Minister for Defence (Paddy Donegan) arriving. I told him it was our Minister of Defence leaving.\" The Mountjoy helicopter escape became Republican lore and was immortalized by \"The Helicopter Song\", which contains the lines \"It\\'s up like a bird and over the city. There\\'s three men a\\'missing I heard the warder say\".[1]']\n",
      "['May 24, 1978', 'United States Penitentiary, Marion', 'United States', 'No', 'Garrett Brock TrapnellMartin Joseph McNallyJames Kenneth Johnson', \"43-year-old Barbara Ann Oswald hijacked a Saint Louis-based charter helicopter and forced the pilot to land in the yard at USP Marion. While landing the aircraft, the pilot, Allen Barklage, who was a Vietnam War veteran, struggled with Oswald and managed to wrestle the gun away from her. Barklage then shot and killed Oswald, thwarting the escape.[10] A few months later Oswald's daughter hijacked TWA Flight 541 in an effort to free Trapnell.\"]\n"
     ]
    }
   ],
   "source": [
    "for row in data[:3]:\n",
    "    print(row)"
   ]
  },
  {
   "cell_type": "markdown",
   "id": "fd009889",
   "metadata": {},
   "source": [
    "### Removing the 'Details' Column:\n",
    "\n",
    "4. We remove the tables text heavy 'Detail' column - starting by creating an 'index' variable with the value of 0 to specify the row we want to modify - we start a for loop and gives the index variable the slicing value of :-1 (reverse slicing), which is the last column in the table, then we add the code 'index += 1' with the purpose of keeping track of the current position of the loop iteration - without this code, the loop would always operate on the first row of the 'data' list and it would be an infinite loop."
   ]
  },
  {
   "cell_type": "code",
   "execution_count": 5,
   "id": "ccd09479",
   "metadata": {},
   "outputs": [
    {
     "name": "stdout",
     "output_type": "stream",
     "text": [
      "[['August 19, 1971', 'Santa Martha Acatitla', 'Mexico', 'Yes'], ['October 31, 1973', 'Mountjoy Jail', 'Ireland', 'Yes'], ['May 24, 1978', 'United States Penitentiary, Marion', 'United States', 'No']]\n"
     ]
    }
   ],
   "source": [
    "index = 0\n",
    "for row in data:\n",
    "    data[index] = row[:-1]\n",
    "    index += 1\n",
    "\n",
    "print(data[:3])"
   ]
  },
  {
   "cell_type": "markdown",
   "id": "d3d6d6f1",
   "metadata": {},
   "source": [
    "### Extracting the Year:\n",
    "\n",
    "5. Next we need to change the date layout from: mm.dd.yyyy to only display the year using the 'helper.py' helper function: 'fetch_year()', which uses the 're' (Regular Expressions) module to find sequences of four digits (aka yyyy). To solve this problem, we first start a for loop, and assignes a variable called 'date' to the first index of the 'data' list, then we print out the 3 first rows to check if the program managed to modify the date."
   ]
  },
  {
   "cell_type": "code",
   "execution_count": 6,
   "id": "753065eb",
   "metadata": {},
   "outputs": [
    {
     "name": "stdout",
     "output_type": "stream",
     "text": [
      "[[1971, 'Santa Martha Acatitla', 'Mexico', 'Yes'], [1973, 'Mountjoy Jail', 'Ireland', 'Yes'], [1978, 'United States Penitentiary, Marion', 'United States', 'No']]\n"
     ]
    }
   ],
   "source": [
    "for row in data:\n",
    "    date = fetch_year(row[0])\n",
    "    row[0] = date\n",
    "    \n",
    "print(data[:3])"
   ]
  },
  {
   "cell_type": "markdown",
   "id": "af7195b1",
   "metadata": {},
   "source": [
    "### Attempts per Year:\n",
    "\n",
    "6. Next we take the given code which uses the min/max() functions to find the minimum/maximum value from the first element of each row by indexing 'x[0]' and the outside indexing '[0]' is find the 'date' column which is the first in the 'data' list. Then we print them out to see if it worked."
   ]
  },
  {
   "cell_type": "code",
   "execution_count": 17,
   "id": "38397155",
   "metadata": {},
   "outputs": [
    {
     "name": "stdout",
     "output_type": "stream",
     "text": [
      "1971\n",
      "2020\n"
     ]
    }
   ],
   "source": [
    "min_year = min(data, key=lambda x: x[0])[0]\n",
    "max_year = max(data, key=lambda x: x[0])[0]\n",
    "\n",
    "print(min_year)\n",
    "print(max_year)\n",
    "\n",
    "\n"
   ]
  },
  {
   "cell_type": "markdown",
   "id": "f14efd62",
   "metadata": {},
   "source": [
    "7. Next we start by making a empty list named 'years' to hold the values of the remaining years from 1971 to 2020. Then we start a 'for' loop with a 'range()' function using the min/max_year data from above. The '+1' is to include the year 2020 as the 'range()' function does not include the prompted number - e.g., range(3) = 0,1,2. Lastly we append each year to our empty list."
   ]
  },
  {
   "cell_type": "code",
   "execution_count": 21,
   "id": "cd3aebe6",
   "metadata": {},
   "outputs": [
    {
     "name": "stdout",
     "output_type": "stream",
     "text": [
      "[1971, 1972, 1973, 1974, 1975, 1976, 1977, 1978, 1979, 1980, 1981, 1982, 1983, 1984, 1985, 1986, 1987, 1988, 1989, 1990, 1991, 1992, 1993, 1994, 1995, 1996, 1997, 1998, 1999, 2000, 2001, 2002, 2003, 2004, 2005, 2006, 2007, 2008, 2009, 2010, 2011, 2012, 2013, 2014, 2015, 2016, 2017, 2018, 2019, 2020]\n"
     ]
    }
   ],
   "source": [
    "years = []\n",
    "\n",
    "for year in range(min_year, max_year +1):\n",
    "    years.append(year)\n",
    "\n",
    "print(years)\n",
    "    "
   ]
  },
  {
   "cell_type": "markdown",
   "id": "f7b1d33f",
   "metadata": {},
   "source": [
    "8. Next we want to find out which years there was an attempted breakout. We start the same way, with an empty list, and start a 'for' loop to append an attempt element to the 'years' list, then we print the first row to see if the list now containes two elements."
   ]
  },
  {
   "cell_type": "code",
   "execution_count": 24,
   "id": "b66d50af",
   "metadata": {},
   "outputs": [
    {
     "name": "stdout",
     "output_type": "stream",
     "text": [
      "[1971, 0]\n"
     ]
    }
   ],
   "source": [
    "attempts_per_year = [] \n",
    "\n",
    "for year in years:\n",
    "    attempts_per_year.append([year, 0])\n",
    "    \n",
    "print(attempts_per_year[0])"
   ]
  },
  {
   "cell_type": "markdown",
   "id": "41342b39",
   "metadata": {},
   "source": [
    "9. Next we want to add the number of attempts to our 'attempt_per_year' list, we do this by creating a 'nested' for loop - first loop iterates through items in the 'data' list, and the second loop iterates through items in the 'attempts_per_year'. Then we check if the year row matches the 'year_attempt' list, and if it does, we increment the count by 1 for each attempt and finaly we print the completed result out.\n",
    "\n"
   ]
  },
  {
   "cell_type": "code",
   "execution_count": 29,
   "id": "36a10a01",
   "metadata": {},
   "outputs": [
    {
     "name": "stdout",
     "output_type": "stream",
     "text": [
      "[[1971, 3], [1972, 0], [1973, 3], [1974, 0], [1975, 0], [1976, 0], [1977, 0], [1978, 3], [1979, 0], [1980, 0], [1981, 5], [1982, 0], [1983, 3], [1984, 0], [1985, 5], [1986, 7], [1987, 3], [1988, 3], [1989, 5], [1990, 3], [1991, 3], [1992, 5], [1993, 3], [1994, 0], [1995, 0], [1996, 3], [1997, 3], [1998, 0], [1999, 3], [2000, 5], [2001, 7], [2002, 5], [2003, 3], [2004, 0], [2005, 5], [2006, 3], [2007, 7], [2008, 0], [2009, 7], [2010, 3], [2011, 0], [2012, 3], [2013, 5], [2014, 3], [2015, 0], [2016, 3], [2017, 0], [2018, 3], [2019, 0], [2020, 3]]\n"
     ]
    }
   ],
   "source": [
    "for row in data:\n",
    "    for year_attempt in attempts_per_year:\n",
    "        year = year_attempt[0]\n",
    "        if row[0] == year:\n",
    "            year_attempt[1] += 1\n",
    "\n",
    "print(attempts_per_year)\n",
    "    "
   ]
  },
  {
   "cell_type": "markdown",
   "id": "afca791e",
   "metadata": {},
   "source": [
    "### Question 1:\n",
    "\n",
    "In which year did the most attempts at breaking out of prison with a helicopter occur?\n",
    "\n",
    "#### Answer:\n",
    "\n",
    "The answer I came to was: 2010, 2007, 2001, and 1986.\n",
    "This is however incorrect, and I if anyone has any tips on how to get this right, please comment. I think the problem lies with how Python retrieved the data list, some of the names are connected together, I tried (without any luck) to creating a function to count the names..."
   ]
  },
  {
   "cell_type": "markdown",
   "id": "9feda910",
   "metadata": {},
   "source": [
    "### Data Visualization:\n",
    "\n",
    "10. Then we use the imported 'matploblib' - a library for creating static, animated, and interactive visualization in Python to present the data in a more pleasant way."
   ]
  },
  {
   "cell_type": "code",
   "execution_count": 30,
   "id": "729ee6d0",
   "metadata": {},
   "outputs": [
    {
     "data": {
      "image/png": "[encoded data removed]",
      "text/plain": [
       "<Figure size 900x1500 with 1 Axes>"
      ]
     },
     "metadata": {},
     "output_type": "display_data"
    }
   ],
   "source": [
    "%matplotlib inline\n",
    "barplot(attempts_per_year)"
   ]
  },
  {
   "cell_type": "code",
   "execution_count": 16,
   "id": "cf6b42a8",
   "metadata": {},
   "outputs": [
    {
     "data": {
      "text/html": [
       "<table border=\"1\" class=\"dataframe\">\n",
       "  <thead>\n",
       "    <tr style=\"text-align: right;\">\n",
       "      <th>Country</th>\n",
       "      <th>Number of Occurrences</th>\n",
       "    </tr>\n",
       "  </thead>\n",
       "  <tbody>\n",
       "    <tr>\n",
       "      <td>France</td>\n",
       "      <td>15</td>\n",
       "    </tr>\n",
       "    <tr>\n",
       "      <td>United States</td>\n",
       "      <td>8</td>\n",
       "    </tr>\n",
       "    <tr>\n",
       "      <td>Greece</td>\n",
       "      <td>4</td>\n",
       "    </tr>\n",
       "    <tr>\n",
       "      <td>Canada</td>\n",
       "      <td>4</td>\n",
       "    </tr>\n",
       "    <tr>\n",
       "      <td>Belgium</td>\n",
       "      <td>4</td>\n",
       "    </tr>\n",
       "    <tr>\n",
       "      <td>United Kingdom</td>\n",
       "      <td>2</td>\n",
       "    </tr>\n",
       "    <tr>\n",
       "      <td>Brazil</td>\n",
       "      <td>2</td>\n",
       "    </tr>\n",
       "    <tr>\n",
       "      <td>Australia</td>\n",
       "      <td>2</td>\n",
       "    </tr>\n",
       "    <tr>\n",
       "      <td>Italy</td>\n",
       "      <td>1</td>\n",
       "    </tr>\n",
       "    <tr>\n",
       "      <td>Puerto Rico</td>\n",
       "      <td>1</td>\n",
       "    </tr>\n",
       "    <tr>\n",
       "      <td>Netherlands</td>\n",
       "      <td>1</td>\n",
       "    </tr>\n",
       "    <tr>\n",
       "      <td>Chile</td>\n",
       "      <td>1</td>\n",
       "    </tr>\n",
       "    <tr>\n",
       "      <td>Russia</td>\n",
       "      <td>1</td>\n",
       "    </tr>\n",
       "    <tr>\n",
       "      <td>Ireland</td>\n",
       "      <td>1</td>\n",
       "    </tr>\n",
       "    <tr>\n",
       "      <td>Mexico</td>\n",
       "      <td>1</td>\n",
       "    </tr>\n",
       "  </tbody>\n",
       "</table>"
      ],
      "text/plain": [
       "<IPython.core.display.HTML object>"
      ]
     },
     "metadata": {},
     "output_type": "display_data"
    },
    {
     "name": "stdout",
     "output_type": "stream",
     "text": [
      "None\n"
     ]
    }
   ],
   "source": [
    "countries_frequency = df[\"Country\"].value_counts()\n",
    "table = print_pretty_table(countries_frequency)\n",
    "\n",
    "print(table)"
   ]
  },
  {
   "cell_type": "code",
   "execution_count": null,
   "id": "43ef66a3",
   "metadata": {},
   "outputs": [],
   "source": []
  }
 ],
 "metadata": {
  "kernelspec": {
   "display_name": "Python 3",
   "language": "python",
   "name": "python3"
  },
  "language_info": {
   "codemirror_mode": {
    "name": "ipython",
    "version": 3
   },
   "file_extension": ".py",
   "mimetype": "text/x-python",
   "name": "python",
   "nbconvert_exporter": "python",
   "pygments_lexer": "ipython3",
   "version": "3.8.2"
  }
 },
 "nbformat": 4,
 "nbformat_minor": 5
}
