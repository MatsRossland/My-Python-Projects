{
 "cells": [
  {
   "cell_type": "markdown",
   "metadata": {
    "collapsed": true
   },
   "source": [
    "# Guided Project: Exploring Hacker News Posts\n",
    "## project 3 of Data Quest's: Python Data Science Course\n",
    "\n",
    "## Introduction:\n",
    "In this project, we are going to explore posts from the website `Hacker News`.\n",
    "We will do this, using the concepts learned in the module `Intermediate Python for Data Science`, concepts include:\n",
    "1. Cleaning and Preparing Data in Python - removing/replacing characters in strings.\n",
    "2. Python Data Analysis Basics - logic to analyze data, frequency tables (dictionaries), summarize of results, number formatting.\n",
    "3. Object-Oriented Python - defining objects, classes, methods (f.ex - `__init__()`), and attributes.\n",
    "4. Working with Dates and Times in Python - importing the `datetime` module to work with timestamps.\n",
    "\n",
    "Now, lets get started, first we'll import the csv file `reader` from the `csv library`, and open our dataset from `kaggle.com` - `Hacker News Posts`. This is done the same way as earlier projects. \n",
    "\n",
    "\n"
   ]
  },
  {
   "cell_type": "markdown",
   "metadata": {},
   "source": [
    "## Extracting Data & Removing Headers from a Lists of Lists:\n",
    "### Code Explanation:\n",
    "1. Setting up a function to print information about the dataset - n\n",
    "2. Importing `reader` from `csv` module.\n",
    "3. Using the `open()` function to open our file.\n",
    "3. Reading the file using the imported `reader` function.\n",
    "4. Turning the dataset into a `List of Lists` with the `list()` function.\n",
    "5. Adding the variable - `header` for the first row, `data` for every row after.\n",
    "6. Printing out the dataset's header and the first five rows to check if everything worked."
   ]
  },
  {
   "cell_type": "code",
   "execution_count": 1,
   "metadata": {},
   "outputs": [
    {
     "name": "stdout",
     "output_type": "stream",
     "text": [
      "HACKER NEWS DATASET:\n",
      "\n",
      "HEADER ROW:\n",
      " ['id', 'title', 'url', 'num_points', 'num_comments', 'author', 'created_at'] \n",
      "\n",
      "FIRST FIVE ROWS:\n",
      "\n",
      "['12224879', 'Interactive Dynamic Video', 'http://www.interactivedynamicvideo.com/', '386', '52', 'ne0phyte', '8/4/2016 11:52']\n",
      "\n",
      "\n",
      "['10975351', 'How to Use Open Source and Shut the Fuck Up at the Same Time', 'http://hueniverse.com/2016/01/26/how-to-use-open-source-and-shut-the-fuck-up-at-the-same-time/', '39', '10', 'josep2', '1/26/2016 19:30']\n",
      "\n",
      "\n",
      "['11964716', \"Florida DJs May Face Felony for April Fools' Water Joke\", 'http://www.thewire.com/entertainment/2013/04/florida-djs-april-fools-water-joke/63798/', '2', '1', 'vezycash', '6/23/2016 22:20']\n",
      "\n",
      "\n",
      "['11919867', 'Technology ventures: From Idea to Enterprise', 'https://www.amazon.com/Technology-Ventures-Enterprise-Thomas-Byers/dp/0073523429', '3', '1', 'hswarna', '6/17/2016 0:01']\n",
      "\n",
      "\n",
      "['10301696', 'Note by Note: The Making of Steinway L1037 (2007)', 'http://www.nytimes.com/2007/11/07/movies/07stein.html?_r=0', '8', '2', 'walterbell', '9/30/2015 4:12']\n",
      "\n",
      "\n",
      "Number of rows:  20100\n",
      "Number of columns:  7\n",
      "\n",
      "\n"
     ]
    }
   ],
   "source": [
    "def data_info(dataset, start, end, row_n_column=False):\n",
    "    slicing = dataset[start:end]\n",
    "    for row in slicing:\n",
    "        print(row)\n",
    "        print('\\n')\n",
    "    if row_n_column:\n",
    "        print('Number of rows: ', len(dataset))\n",
    "        print('Number of columns: ', len(dataset[0]))\n",
    "        \n",
    "from csv import reader\n",
    "open_file = open('hacker_news.csv')\n",
    "read_file = reader(open_file)\n",
    "hn = list(read_file)\n",
    "\n",
    "header = hn[0]\n",
    "hn = hn[1:]\n",
    "\n",
    "print('HACKER NEWS DATASET:\\n')\n",
    "print('HEADER ROW:\\n', header, '\\n')\n",
    "\n",
    "print('FIRST FIVE ROWS:\\n')\n",
    "data_info(hn, 0, 5, True)\n",
    "print('\\n')\n"
   ]
  },
  {
   "cell_type": "markdown",
   "metadata": {},
   "source": [
    "## Extracting Ask HN and Show HN Posts:\n",
    "### Code Explanation:\n",
    "\n",
    "1. setting up three empty lists to contain the results.\n",
    "2. starting a `for` loop to iterate the title row (index 1 - `row[1]`) of the dataset.\n",
    "3. using `if/elif/else` statements to find posts starting with \"ask hn\", \"show hn\", or other titles, when found they are appended to their respected list - `ask_posts` , `show_posts`, or `other_posts`.\n",
    "4. lastly we print out the length of each list using the `len()` function.\n",
    "\n",
    "we also post the five first posts on both the `ask_posts` and `show_posts` lists for the next task"
   ]
  },
  {
   "cell_type": "code",
   "execution_count": 2,
   "metadata": {},
   "outputs": [
    {
     "name": "stdout",
     "output_type": "stream",
     "text": [
      "NUMBER OF \"ASK HN\" POSTS:  1744 \n",
      "NUMBER OF \"SHOW HN\" POSTS:  1162 \n",
      "NUMBER OF OTHER POSTS:  17194\n",
      "\n",
      "\n",
      "THE FIRST ROW TITLED - \"ASK HN\":  ['10610020', 'Ask HN: Am I the only one outraged by Twitter shutting down share counts?', '', '28', '29', 'tkfx', '11/22/2015 13:43']\n"
     ]
    }
   ],
   "source": [
    "ask_posts = []\n",
    "show_posts = []\n",
    "other_posts = []\n",
    "\n",
    "for row in hn:\n",
    "    title = row[1]\n",
    "    \n",
    "    if title.lower().startswith(\"ask hn\"):\n",
    "        ask_posts.append(row)\n",
    "        \n",
    "    elif title.lower().startswith(\"show hn\"):\n",
    "        show_posts.append(row)\n",
    "        \n",
    "    else:\n",
    "        other_posts.append(row)\n",
    "        \n",
    "ask_count = len(ask_posts)\n",
    "show_count = len(show_posts)\n",
    "other_count = len(other_posts)\n",
    "\n",
    "print('NUMBER OF \"ASK HN\" POSTS: ', ask_count, '\\nNUMBER OF \"SHOW HN\" POSTS: ', show_count, '\\nNUMBER OF OTHER POSTS: ', other_count)\n",
    "print('\\n')\n",
    "print('THE FIRST ROW TITLED - \"ASK HN\": ',ask_posts[1])\n",
    "#It printing the first title.\n"
   ]
  },
  {
   "cell_type": "markdown",
   "metadata": {},
   "source": [
    "## Calculating the Average Number of Comments for Ask HN and Show HN Posts:\n",
    "### Code Explanation:\n",
    "\n",
    "1. setting up an empty counter for each section.\n",
    "2. starting a `for` loop iterating the dataset, finding the `num_comments` row (`index [4]`) + adding a type `int` on the number of comments.\n",
    "4. finding the average comments by dividing the total counter with the number of comments - `avg = total / comments`.\n",
    "5. printing the results\n",
    "6. adding the `avg` results to the `ask_result` and `show_result` and using the `round()` function for readability.\n"
   ]
  },
  {
   "cell_type": "code",
   "execution_count": 3,
   "metadata": {},
   "outputs": [
    {
     "name": "stdout",
     "output_type": "stream",
     "text": [
      "THE AVERAGE NUMBER OF COMMENTS ON \"ASK\" POSTS IS:  14\n",
      "THE AVERAGE NUMBER OF COMMENTS ON \"SHOW\" POSTS IS:  10\n"
     ]
    }
   ],
   "source": [
    "total_ask = 0\n",
    "\n",
    "for row in ask_posts:\n",
    "    comments = int(row[4])\n",
    "    total_ask += comments\n",
    "    \n",
    "avg_ask = total_ask / ask_count\n",
    "ask_result = round(avg_ask)\n",
    "print('THE AVERAGE NUMBER OF COMMENTS ON \"ASK\" POSTS IS: ', ask_result)\n",
    "\n",
    "total_show = 0\n",
    "\n",
    "for row in show_posts:\n",
    "    comments = int(row[4])\n",
    "    total_show += comments\n",
    "        \n",
    "avg_show = total_show / show_count\n",
    "show_result = round(avg_show)\n",
    "print('THE AVERAGE NUMBER OF COMMENTS ON \"SHOW\" POSTS IS: ', show_result)"
   ]
  },
  {
   "cell_type": "markdown",
   "metadata": {},
   "source": [
    "## 9. Results:\n",
    "\n",
    "The average result for posts with \"Ask HN\" in the title was `14`, while posts with \"Show HN\" in the title averaged `10` comments. \n",
    "\n",
    "In conclusiong, posts titled \"Ask HN\" received more comments on average, with four more comments per post."
   ]
  },
  {
   "cell_type": "markdown",
   "metadata": {},
   "source": [
    "## Finding the Number of Ask Posts and Comments by Hour Created:\n",
    "\n",
    "### Code Explanation:\n",
    "\n",
    "1. Importing the `datetime` module with `dt` as an alias for easier access.\n",
    "2. setting up one empty list `result_list`, two empty dictionaries `counts_by_hour` and `comments_by_hour`, and a date format `month/day/year hour:minute`.\n",
    "3. iterating over the `ask_posts` list of lists and appending timestamp and comment rows (index `[6]` & `[4]`).\n",
    "4. starting a new `for` loop to only iterate over the new `result_list`, which only contains timestamps and comments.\n",
    "5. adding variables for post time and comments, which is now at index `[0]` & `[1]` since the list was created with only two columns.\n",
    "6. extracting only the hour from the post timestamp using the `datetime` module's functions - `strptime` and `strftime`.\n",
    "7. starting a `if`-statement for the `counts_by_hour` dictionary, and incrementing the count by `+=1`, and the comments by number of comments on one specific hour - if not, leaving the values as they are.\n",
    "8. printing the result out in a `for` loop for readability."
   ]
  },
  {
   "cell_type": "code",
   "execution_count": 4,
   "metadata": {},
   "outputs": [
    {
     "name": "stdout",
     "output_type": "stream",
     "text": [
      "COMMENTS BY HOUR: \n",
      "'00:'447\n",
      "'01:'683\n",
      "'02:'1381\n",
      "'03:'421\n",
      "'04:'337\n",
      "'05:'464\n",
      "'06:'397\n",
      "'07:'267\n",
      "'08:'492\n",
      "'09:'251\n",
      "'10:'793\n",
      "'11:'641\n",
      "'12:'687\n",
      "'13:'1253\n",
      "'14:'1416\n",
      "'15:'4477\n",
      "'16:'1814\n",
      "'17:'1146\n",
      "'18:'1439\n",
      "'19:'1188\n",
      "'20:'1722\n",
      "'21:'1745\n",
      "'22:'479\n",
      "'23:'543\n",
      "\n",
      "POSTS BY HOUR: \n",
      "'00:'55\n",
      "'01:'60\n",
      "'02:'58\n",
      "'03:'54\n",
      "'04:'47\n",
      "'05:'46\n",
      "'06:'44\n",
      "'07:'34\n",
      "'08:'48\n",
      "'09:'45\n",
      "'10:'59\n",
      "'11:'58\n",
      "'12:'73\n",
      "'13:'85\n",
      "'14:'107\n",
      "'15:'116\n",
      "'16:'108\n",
      "'17:'100\n",
      "'18:'109\n",
      "'19:'110\n",
      "'20:'80\n",
      "'21:'109\n",
      "'22:'71\n",
      "'23:'68\n"
     ]
    }
   ],
   "source": [
    "import datetime as dt\n",
    "\n",
    "result_list = []\n",
    "counts_by_hour = {}\n",
    "comments_by_hour = {}\n",
    "date_format = \"%m/%d/%Y %H:%M\"\n",
    "\n",
    "for row in ask_posts:\n",
    "    result_list.append((row[6], int(row[4])))\n",
    "\n",
    "for row in result_list:\n",
    "    created_at = row[0]\n",
    "    comments = row[1]\n",
    "    hour = dt.datetime.strptime(created_at, date_format).strftime(\"%H\")\n",
    "    if hour in counts_by_hour:\n",
    "        counts_by_hour[hour] += 1\n",
    "        comments_by_hour[hour] += comments\n",
    "    else:\n",
    "        counts_by_hour[hour] = 1\n",
    "        comments_by_hour[hour] = comments\n",
    "\n",
    "print('COMMENTS BY HOUR: ')\n",
    "for hour in sorted(comments_by_hour):\n",
    "    print(f\"'{hour}:'{comments_by_hour[hour]}\")\n",
    "\n",
    "print('\\nPOSTS BY HOUR: ')\n",
    "for hour in sorted(counts_by_hour):\n",
    "    print(f\"'{hour}:'{counts_by_hour[hour]}\")"
   ]
  },
  {
   "cell_type": "markdown",
   "metadata": {},
   "source": [
    "## Calculating the Average Number of Comments for Ask HN Posts by Hour:\n",
    "\n",
    "### Code Explanation:\n",
    "\n",
    "1. creating a empty list for results - `avg_by_hour`.\n",
    "2. starting a `for` loop over the `comments_by_hour` dictionary from above.\n",
    "3. appending the hour, the hour's comment number and dividing it by the amount of posts in that hour - than adding the result to a variable named - `res` and printing it."
   ]
  },
  {
   "cell_type": "code",
   "execution_count": 5,
   "metadata": {},
   "outputs": [],
   "source": [
    "avg_by_hour = []\n",
    "\n",
    "for hour in comments_by_hour:\n",
    "    avg_by_hour.append([hour, comments_by_hour[hour] / counts_by_hour[hour]])\n",
    "res = avg_by_hour\n"
   ]
  },
  {
   "cell_type": "markdown",
   "metadata": {},
   "source": [
    "## Sorting and Printing Values from a List of Lists:\n",
    "\n",
    "### Code Explanation:\n",
    "\n",
    "1. create an empty list `swapped` to store the reveresed values of `res` (`avg_by_hour`) from above.\n",
    "2. starting `for` loop and appending the average comments at each time.\n",
    "3. sorting the new list with the `sorted()` function with two arguments - the swapped list, and `reverse=True` (reversed order).\n",
    "4. printing the results in a `for` loop if the five first rows `[:5]` (the highest average comment number), and formatting the output for readability - using ``"
   ]
  },
  {
   "cell_type": "code",
   "execution_count": 6,
   "metadata": {},
   "outputs": [
    {
     "name": "stdout",
     "output_type": "stream",
     "text": [
      "THE TOP 5 HOURS FOR \"ASK\" POSTS COMMENTS ARE: \n",
      "\n",
      "THE TIME - 15:00 GETS AN AVERAGE OF - 38.59 COMMENTS PER POST\n",
      "THE TIME - 02:00 GETS AN AVERAGE OF - 23.81 COMMENTS PER POST\n",
      "THE TIME - 20:00 GETS AN AVERAGE OF - 21.52 COMMENTS PER POST\n",
      "THE TIME - 16:00 GETS AN AVERAGE OF - 16.80 COMMENTS PER POST\n",
      "THE TIME - 21:00 GETS AN AVERAGE OF - 16.01 COMMENTS PER POST\n"
     ]
    }
   ],
   "source": [
    "swapped = []\n",
    "\n",
    "for i in res:\n",
    "    swapped.append([i[1], i[0]])\n",
    "\n",
    "swapped_sorted = sorted(swapped, reverse=True)\n",
    "\n",
    "print('THE TOP 5 HOURS FOR \"ASK\" POSTS COMMENTS ARE: \\n')\n",
    "for avg, hour in swapped_sorted[:5]:\n",
    "    print(\"THE TIME - {}:00 GETS AN AVERAGE OF - {:.2f} COMMENTS PER POST\".format(hour, avg))"
   ]
  },
  {
   "cell_type": "code",
   "execution_count": null,
   "metadata": {},
   "outputs": [],
   "source": []
  }
 ],
 "metadata": {
  "kernelspec": {
   "display_name": "Python 3",
   "language": "python",
   "name": "python3"
  },
  "language_info": {
   "codemirror_mode": {
    "name": "ipython",
    "version": 3
   },
   "file_extension": ".py",
   "mimetype": "text/x-python",
   "name": "python",
   "nbconvert_exporter": "python",
   "pygments_lexer": "ipython3",
   "version": "3.8.2"
  }
 },
 "nbformat": 4,
 "nbformat_minor": 2
}
